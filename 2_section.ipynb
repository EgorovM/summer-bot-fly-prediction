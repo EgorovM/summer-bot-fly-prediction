{
 "cells": [
  {
   "cell_type": "markdown",
   "id": "3d5ea9fe-c2f5-4c9d-94fb-1694d8dc56d1",
   "metadata": {},
   "source": [
    "# Feature Engineering\n",
    "\n",
    "- Координаты городов. Чтобы в основном найти расстояния.\n",
    "- Перелеты внутри государства (расстояние между городами). Скорее всего цена зависит от расхода топлива -> от расстояния\n",
    "- Кластеризация.\n",
    "- Дата: выходной.\n",
    "- Скорость: расстояние / время полета.\n",
    "- Часто встречаемые авиалинии.\n",
    "- Погода.\n",
    "- Время полета (день, утро, вечер).\n",
    "- В какую минуту дня самолет вылетел."
   ]
  },
  {
   "cell_type": "code",
   "execution_count": 172,
   "id": "10240b20-ae1e-4393-a06d-e1ac31ae01e3",
   "metadata": {},
   "outputs": [],
   "source": [
    "import pandas as pd"
   ]
  },
  {
   "cell_type": "code",
   "execution_count": 173,
   "id": "5f6fa0ac-04dc-40de-bce7-7567242ace20",
   "metadata": {},
   "outputs": [],
   "source": [
    "df = pd.read_csv('features.csv', parse_dates=['date'], sep=',')"
   ]
  },
  {
   "cell_type": "markdown",
   "id": "da760bd3-fa7a-4aa4-9bc3-f0c9fdfdcd4f",
   "metadata": {
    "tags": []
   },
   "source": [
    "### Координаты городов\n",
    "\n",
    "city_name -> [lat, lon]\n",
    "\n",
    "str -> [float, float]\n",
    "\n",
    "москва -> [63, 128]"
   ]
  },
  {
   "cell_type": "code",
   "execution_count": 139,
   "id": "e373e613-662b-4da4-86cb-08119eaebbb0",
   "metadata": {},
   "outputs": [],
   "source": [
    "from mapbox import Geocoder"
   ]
  },
  {
   "cell_type": "code",
   "execution_count": 140,
   "id": "160cc1c5-ffaa-4bc1-9d7d-2f494062ed59",
   "metadata": {},
   "outputs": [],
   "source": [
    "access_token = 'pk.eyJ1IjoiZWdvcm92bSIsImEiOiJjanhic2F1ZDUwMTdvNDJ0bHMxOGg5NWthIn0.QL2wIcgAJIBNIz2gbpuLVQ'"
   ]
  },
  {
   "cell_type": "code",
   "execution_count": 141,
   "id": "de13fba7-e5b6-4244-96d7-b0801f9ae3a9",
   "metadata": {},
   "outputs": [],
   "source": [
    "geocoder = Geocoder(access_token=access_token)"
   ]
  },
  {
   "cell_type": "code",
   "execution_count": 142,
   "id": "38cfc8e5-25df-4611-8e9f-2129ff4fdb68",
   "metadata": {},
   "outputs": [],
   "source": [
    "all_cities = df['from'].append(df['to']).unique()"
   ]
  },
  {
   "cell_type": "code",
   "execution_count": 143,
   "id": "93a724e7-dd4d-48d9-9ec9-44c04278754b",
   "metadata": {},
   "outputs": [],
   "source": [
    "city_coordinate = {}\n",
    "\n",
    "for city_name in all_cities:\n",
    "    response = geocoder.forward(city_name)\n",
    "    place_name = response.json()['features'][0]['place_name']\n",
    "    coordinates = response.json()['features'][0]['geometry']['coordinates']\n",
    "    \n",
    "    city_coordinate[city_name] = coordinates"
   ]
  },
  {
   "cell_type": "code",
   "execution_count": 144,
   "id": "152539c7-fb3c-4b45-81b1-ac277c378041",
   "metadata": {},
   "outputs": [
    {
     "data": {
      "text/plain": [
       "{'Delhi': [77.21667, 28.66667],\n",
       " 'Mumbai': [72.83333, 18.96667],\n",
       " 'Bangalore': [77.59796, 12.96991],\n",
       " 'Kolkata': [88.33778, 22.54111],\n",
       " 'Hyderabad': [78.46667, 17.36667],\n",
       " 'Chennai': [80.27, 13.09]}"
      ]
     },
     "execution_count": 144,
     "metadata": {},
     "output_type": "execute_result"
    }
   ],
   "source": [
    "city_coordinate"
   ]
  },
  {
   "cell_type": "code",
   "execution_count": 145,
   "id": "7daa2088-c0c0-4525-b8f0-f84f0cee1d25",
   "metadata": {},
   "outputs": [],
   "source": [
    "from_coordinates_lat = []\n",
    "from_coordinates_lon = []\n",
    "\n",
    "for city_name in df['from']:\n",
    "    from_coordinates_lat.append(city_coordinate[city_name][1]) # lat\n",
    "    from_coordinates_lon.append(city_coordinate[city_name][0]) # lon\n",
    "    \n",
    "    \n",
    "to_coordinates_lat = []\n",
    "to_coordinates_lon = []\n",
    "\n",
    "for city_name in df['to']:\n",
    "    to_coordinates_lat.append(city_coordinate[city_name][1])\n",
    "    to_coordinates_lon.append(city_coordinate[city_name][0])"
   ]
  },
  {
   "cell_type": "code",
   "execution_count": 146,
   "id": "ab0fdace-7723-4f95-85c2-4d92f67d722c",
   "metadata": {},
   "outputs": [],
   "source": [
    "df['from_coordinates_lat'] = from_coordinates_lat\n",
    "df['from_coordinates_lon'] = from_coordinates_lon\n",
    "\n",
    "df['to_coordinates_lat'] = to_coordinates_lat\n",
    "df['to_coordinates_lon'] = to_coordinates_lon"
   ]
  },
  {
   "cell_type": "code",
   "execution_count": 147,
   "id": "27c88b90-396d-42c5-ab9c-c438bd7bc841",
   "metadata": {},
   "outputs": [],
   "source": [
    "import haversine"
   ]
  },
  {
   "cell_type": "code",
   "execution_count": 148,
   "id": "b093bbb9-060e-4518-89bf-89070b03032d",
   "metadata": {},
   "outputs": [],
   "source": [
    "# haversine.haversine((1, 1), (2, 4))"
   ]
  },
  {
   "cell_type": "code",
   "execution_count": 149,
   "id": "339ba1f7-d61c-4cf1-b3d5-0071af08f3da",
   "metadata": {},
   "outputs": [],
   "source": [
    "distances = []\n",
    "\n",
    "for i in range(len(from_coordinates_lat)):\n",
    "    from_lat = from_coordinates_lat[i]\n",
    "    from_lon = from_coordinates_lon[i]\n",
    "    \n",
    "    to_lat = to_coordinates_lat[i]\n",
    "    to_lon = to_coordinates_lon[i]\n",
    "    \n",
    "    distance = haversine.haversine((from_lat, from_lon), (to_lat, to_lon))\n",
    "    \n",
    "    distances.append(distance)"
   ]
  },
  {
   "cell_type": "code",
   "execution_count": 150,
   "id": "6b1ee935-4270-471e-9f8f-58a8a60df2db",
   "metadata": {},
   "outputs": [],
   "source": [
    "df['distance'] = distances"
   ]
  },
  {
   "cell_type": "code",
   "execution_count": 151,
   "id": "89bbcad1-98a3-4b64-b0ab-8415a4845864",
   "metadata": {},
   "outputs": [],
   "source": [
    "df['speed'] = df['distance'] / (df['taken_time_minues'] / 60)"
   ]
  },
  {
   "cell_type": "code",
   "execution_count": 152,
   "id": "7173dc70-69de-40be-a694-1e2901eaf051",
   "metadata": {},
   "outputs": [],
   "source": [
    "df['week_day'] = df['date'].dt.weekday"
   ]
  },
  {
   "cell_type": "code",
   "execution_count": 153,
   "id": "c563d899-205d-428e-a226-4b6403ad20f5",
   "metadata": {},
   "outputs": [
    {
     "data": {
      "text/html": [
       "<div>\n",
       "<style scoped>\n",
       "    .dataframe tbody tr th:only-of-type {\n",
       "        vertical-align: middle;\n",
       "    }\n",
       "\n",
       "    .dataframe tbody tr th {\n",
       "        vertical-align: top;\n",
       "    }\n",
       "\n",
       "    .dataframe thead th {\n",
       "        text-align: right;\n",
       "    }\n",
       "</style>\n",
       "<table border=\"1\" class=\"dataframe\">\n",
       "  <thead>\n",
       "    <tr style=\"text-align: right;\">\n",
       "      <th></th>\n",
       "      <th>date</th>\n",
       "      <th>airline</th>\n",
       "      <th>dep_time</th>\n",
       "      <th>from</th>\n",
       "      <th>stop</th>\n",
       "      <th>to</th>\n",
       "      <th>price</th>\n",
       "      <th>is_econom</th>\n",
       "      <th>taken_time_minues</th>\n",
       "      <th>from_coordinates_lat</th>\n",
       "      <th>from_coordinates_lon</th>\n",
       "      <th>to_coordinates_lat</th>\n",
       "      <th>to_coordinates_lon</th>\n",
       "      <th>distance</th>\n",
       "      <th>speed</th>\n",
       "      <th>week_day</th>\n",
       "    </tr>\n",
       "  </thead>\n",
       "  <tbody>\n",
       "    <tr>\n",
       "      <th>0</th>\n",
       "      <td>2022-11-02</td>\n",
       "      <td>Air India</td>\n",
       "      <td>18:00</td>\n",
       "      <td>Delhi</td>\n",
       "      <td>non-stop</td>\n",
       "      <td>Mumbai</td>\n",
       "      <td>25612</td>\n",
       "      <td>0</td>\n",
       "      <td>120.0</td>\n",
       "      <td>28.66667</td>\n",
       "      <td>77.21667</td>\n",
       "      <td>18.96667</td>\n",
       "      <td>72.83333</td>\n",
       "      <td>1166.798334</td>\n",
       "      <td>583.399167</td>\n",
       "      <td>2</td>\n",
       "    </tr>\n",
       "    <tr>\n",
       "      <th>1</th>\n",
       "      <td>2022-11-02</td>\n",
       "      <td>Air India</td>\n",
       "      <td>19:00</td>\n",
       "      <td>Delhi</td>\n",
       "      <td>non-stop</td>\n",
       "      <td>Mumbai</td>\n",
       "      <td>25612</td>\n",
       "      <td>0</td>\n",
       "      <td>135.0</td>\n",
       "      <td>28.66667</td>\n",
       "      <td>77.21667</td>\n",
       "      <td>18.96667</td>\n",
       "      <td>72.83333</td>\n",
       "      <td>1166.798334</td>\n",
       "      <td>518.577037</td>\n",
       "      <td>2</td>\n",
       "    </tr>\n",
       "    <tr>\n",
       "      <th>2</th>\n",
       "      <td>2022-11-02</td>\n",
       "      <td>Air India</td>\n",
       "      <td>20:00</td>\n",
       "      <td>Delhi</td>\n",
       "      <td>1-stop</td>\n",
       "      <td>Mumbai</td>\n",
       "      <td>42220</td>\n",
       "      <td>0</td>\n",
       "      <td>1485.0</td>\n",
       "      <td>28.66667</td>\n",
       "      <td>77.21667</td>\n",
       "      <td>18.96667</td>\n",
       "      <td>72.83333</td>\n",
       "      <td>1166.798334</td>\n",
       "      <td>47.143367</td>\n",
       "      <td>2</td>\n",
       "    </tr>\n",
       "    <tr>\n",
       "      <th>3</th>\n",
       "      <td>2022-11-02</td>\n",
       "      <td>Air India</td>\n",
       "      <td>21:25</td>\n",
       "      <td>Delhi</td>\n",
       "      <td>1-stop</td>\n",
       "      <td>Mumbai</td>\n",
       "      <td>44450</td>\n",
       "      <td>0</td>\n",
       "      <td>1590.0</td>\n",
       "      <td>28.66667</td>\n",
       "      <td>77.21667</td>\n",
       "      <td>18.96667</td>\n",
       "      <td>72.83333</td>\n",
       "      <td>1166.798334</td>\n",
       "      <td>44.030126</td>\n",
       "      <td>2</td>\n",
       "    </tr>\n",
       "    <tr>\n",
       "      <th>4</th>\n",
       "      <td>2022-11-02</td>\n",
       "      <td>Air India</td>\n",
       "      <td>17:15</td>\n",
       "      <td>Delhi</td>\n",
       "      <td>1-stop</td>\n",
       "      <td>Mumbai</td>\n",
       "      <td>46690</td>\n",
       "      <td>0</td>\n",
       "      <td>400.0</td>\n",
       "      <td>28.66667</td>\n",
       "      <td>77.21667</td>\n",
       "      <td>18.96667</td>\n",
       "      <td>72.83333</td>\n",
       "      <td>1166.798334</td>\n",
       "      <td>175.019750</td>\n",
       "      <td>2</td>\n",
       "    </tr>\n",
       "  </tbody>\n",
       "</table>\n",
       "</div>"
      ],
      "text/plain": [
       "        date    airline dep_time   from      stop      to  price  is_econom  \\\n",
       "0 2022-11-02  Air India    18:00  Delhi  non-stop  Mumbai  25612          0   \n",
       "1 2022-11-02  Air India    19:00  Delhi  non-stop  Mumbai  25612          0   \n",
       "2 2022-11-02  Air India    20:00  Delhi    1-stop  Mumbai  42220          0   \n",
       "3 2022-11-02  Air India    21:25  Delhi    1-stop  Mumbai  44450          0   \n",
       "4 2022-11-02  Air India    17:15  Delhi    1-stop  Mumbai  46690          0   \n",
       "\n",
       "   taken_time_minues  from_coordinates_lat  from_coordinates_lon  \\\n",
       "0              120.0              28.66667              77.21667   \n",
       "1              135.0              28.66667              77.21667   \n",
       "2             1485.0              28.66667              77.21667   \n",
       "3             1590.0              28.66667              77.21667   \n",
       "4              400.0              28.66667              77.21667   \n",
       "\n",
       "   to_coordinates_lat  to_coordinates_lon     distance       speed  week_day  \n",
       "0            18.96667            72.83333  1166.798334  583.399167         2  \n",
       "1            18.96667            72.83333  1166.798334  518.577037         2  \n",
       "2            18.96667            72.83333  1166.798334   47.143367         2  \n",
       "3            18.96667            72.83333  1166.798334   44.030126         2  \n",
       "4            18.96667            72.83333  1166.798334  175.019750         2  "
      ]
     },
     "execution_count": 153,
     "metadata": {},
     "output_type": "execute_result"
    }
   ],
   "source": [
    "df.head()"
   ]
  },
  {
   "cell_type": "code",
   "execution_count": 154,
   "id": "1d6c9b3b-edcb-425b-b395-d9037e8e9e07",
   "metadata": {},
   "outputs": [],
   "source": [
    "df['dep_minutes'] = df.dep_time.apply(lambda x: int(x.split(':')[0]) * 60 + int(x.split(':')[1]))"
   ]
  },
  {
   "cell_type": "code",
   "execution_count": 156,
   "id": "ef7634da-06fc-4831-b404-48da36d8b4a3",
   "metadata": {},
   "outputs": [],
   "source": [
    "df['stop_count'] = df.stop.map({'non-stop': 0, '1-stop': 1, '2+-stop': 2})"
   ]
  },
  {
   "cell_type": "code",
   "execution_count": 165,
   "id": "3a716059-dc8f-47ab-af30-0b3fd83a661a",
   "metadata": {},
   "outputs": [],
   "source": [
    "new_airlines = []\n",
    "\n",
    "for airline in df.airline:\n",
    "    if airline != 'Vistara' and airline != 'Air India' and airline != 'Indigo':\n",
    "        new_airlines.append('Other')\n",
    "    else:\n",
    "        new_airlines.append(airline)"
   ]
  },
  {
   "cell_type": "code",
   "execution_count": 166,
   "id": "3ee3ffd4-eca6-4c65-802c-04b97418702c",
   "metadata": {},
   "outputs": [],
   "source": [
    "df['new_airlines'] = new_airlines"
   ]
  },
  {
   "cell_type": "code",
   "execution_count": 170,
   "id": "2751f174-8f44-4944-9752-f4bca0f2a72f",
   "metadata": {},
   "outputs": [],
   "source": [
    "df.to_csv('new_features.csv', index=False)"
   ]
  }
 ],
 "metadata": {
  "kernelspec": {
   "display_name": "Python 3 (ipykernel)",
   "language": "python",
   "name": "python3"
  },
  "language_info": {
   "codemirror_mode": {
    "name": "ipython",
    "version": 3
   },
   "file_extension": ".py",
   "mimetype": "text/x-python",
   "name": "python",
   "nbconvert_exporter": "python",
   "pygments_lexer": "ipython3",
   "version": "3.8.2"
  }
 },
 "nbformat": 4,
 "nbformat_minor": 5
}
