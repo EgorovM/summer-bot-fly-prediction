{
 "cells": [
  {
   "cell_type": "markdown",
   "id": "5f9013dd-7d74-44df-9faf-d3cde94c25ec",
   "metadata": {},
   "source": [
    "# Обучение модели"
   ]
  },
  {
   "cell_type": "code",
   "execution_count": 1,
   "id": "57c17774-1f29-45fb-8efe-93464b7222e3",
   "metadata": {},
   "outputs": [],
   "source": [
    "import pandas as pd\n",
    "import numpy as np\n",
    "\n",
    "import seaborn as sns\n",
    "import matplotlib.pyplot as plt"
   ]
  },
  {
   "cell_type": "code",
   "execution_count": 2,
   "id": "e248940e-be6d-49b5-a450-4244220995cc",
   "metadata": {},
   "outputs": [],
   "source": [
    "df = pd.read_csv('new_features.csv')"
   ]
  },
  {
   "cell_type": "code",
   "execution_count": 3,
   "id": "f4504144-73b5-471f-accd-5371dfd1b0f3",
   "metadata": {},
   "outputs": [],
   "source": [
    "real_columns = ['is_econom', 'taken_time_minues', 'distance', 'speed', 'week_day', 'dep_minutes', 'stop_count']\n",
    "cat_columns = ['new_airlines']\n",
    "\n",
    "target = 'price'"
   ]
  },
  {
   "cell_type": "code",
   "execution_count": 6,
   "id": "f66ee551-515a-4b77-8464-5f4be5a06792",
   "metadata": {},
   "outputs": [],
   "source": [
    "from sklearn.preprocessing import StandardScaler, OneHotEncoder, PolynomialFeatures\n",
    "from sklearn.pipeline import Pipeline\n",
    "from sklearn.compose import ColumnTransformer, TransformedTargetRegressor\n",
    "from sklearn.ensemble import RandomForestRegressor\n",
    "from sklearn.linear_model import LinearRegression\n",
    "from sklearn.model_selection import train_test_split"
   ]
  },
  {
   "cell_type": "code",
   "execution_count": 16,
   "id": "11eb6691-0177-4293-b1e5-870d579388cd",
   "metadata": {},
   "outputs": [],
   "source": [
    "target_transformer_lnr = TransformedTargetRegressor(\n",
    "    regressor= LinearRegression(),\n",
    "    func=np.log, inverse_func=np.exp\n",
    ")\n",
    "\n",
    "target_transformer_rfr = TransformedTargetRegressor(\n",
    "    regressor= RandomForestRegressor(),\n",
    "    func=np.log, inverse_func=np.exp\n",
    ")\n",
    "\n",
    "transformer = ColumnTransformer([\n",
    "    ('real', StandardScaler(), real_columns),\n",
    "    ('cat', OneHotEncoder(handle_unknown='ignore'), cat_columns),\n",
    "])\n",
    "\n",
    "pipe_lnr = Pipeline([\n",
    "    ('transfromer', transformer),\n",
    "    ('poly', PolynomialFeatures()),\n",
    "    ('model', target_transformer_lnr)\n",
    "])\n",
    "\n",
    "pipe_rfr = Pipeline([\n",
    "    ('transfromer', transformer),\n",
    "    ('poly', PolynomialFeatures()),\n",
    "    ('model', target_transformer_rfr)\n",
    "])"
   ]
  },
  {
   "cell_type": "code",
   "execution_count": 17,
   "id": "c4c0a4aa-50ba-4eef-ad2c-825b4f5fec3c",
   "metadata": {},
   "outputs": [],
   "source": [
    "def train_to_df(X_train, y_train):\n",
    "    pipe_rfr = Pipeline([\n",
    "        ('transfromer', transformer),\n",
    "        ('model', target_transformer_rfr)\n",
    "    ])\n",
    "    pipe_rfr.fit(X_train, y_train)\n",
    "    print('mae:', mean_absolute_error(y_test, pipe_rfr.predict(X_test)))\n",
    "    print('mse:', mean_squared_error(y_test, pipe_rfr.predict(X_test)))\n",
    "    \n",
    "    return pipe_rfr"
   ]
  },
  {
   "cell_type": "markdown",
   "id": "c27ba214-bd92-4745-b36e-0a46b25eb4c2",
   "metadata": {},
   "source": [
    "Выбор test_size"
   ]
  },
  {
   "cell_type": "code",
   "execution_count": 18,
   "id": "9ef2ac56-fdc9-4718-a2c5-09dc36103463",
   "metadata": {},
   "outputs": [],
   "source": [
    "X_train, X_test, y_train, y_test = train_test_split(\n",
    "    df.drop(target, axis=1),\n",
    "    df[target],\n",
    "    test_size=0.3,\n",
    "    random_state=42,\n",
    ")"
   ]
  },
  {
   "cell_type": "code",
   "execution_count": 24,
   "id": "a811259f-1a14-4886-a6fb-8d75799bd108",
   "metadata": {},
   "outputs": [
    {
     "data": {
      "text/plain": [
       "Pipeline(steps=[('transfromer',\n",
       "                 ColumnTransformer(transformers=[('real', StandardScaler(),\n",
       "                                                  ['is_econom',\n",
       "                                                   'taken_time_minues',\n",
       "                                                   'distance', 'speed',\n",
       "                                                   'week_day', 'dep_minutes',\n",
       "                                                   'stop_count']),\n",
       "                                                 ('cat',\n",
       "                                                  OneHotEncoder(handle_unknown='ignore'),\n",
       "                                                  ['new_airlines'])])),\n",
       "                ('poly', PolynomialFeatures()),\n",
       "                ('model',\n",
       "                 TransformedTargetRegressor(func=<ufunc 'log'>,\n",
       "                                            inverse_func=<ufunc 'exp'>,\n",
       "                                            regressor=LinearRegression()))])"
      ]
     },
     "execution_count": 24,
     "metadata": {},
     "output_type": "execute_result"
    }
   ],
   "source": [
    "pipe_lnr.fit(X_train, y_train)"
   ]
  },
  {
   "cell_type": "code",
   "execution_count": 19,
   "id": "5b8fba90-1956-48cb-9ffb-14a45678f82a",
   "metadata": {},
   "outputs": [
    {
     "data": {
      "text/plain": [
       "Pipeline(steps=[('transfromer',\n",
       "                 ColumnTransformer(transformers=[('real', StandardScaler(),\n",
       "                                                  ['is_econom',\n",
       "                                                   'taken_time_minues',\n",
       "                                                   'distance', 'speed',\n",
       "                                                   'week_day', 'dep_minutes',\n",
       "                                                   'stop_count']),\n",
       "                                                 ('cat',\n",
       "                                                  OneHotEncoder(handle_unknown='ignore'),\n",
       "                                                  ['new_airlines'])])),\n",
       "                ('poly', PolynomialFeatures()),\n",
       "                ('model',\n",
       "                 TransformedTargetRegressor(func=<ufunc 'log'>,\n",
       "                                            inverse_func=<ufunc 'exp'>,\n",
       "                                            regressor=RandomForestRegressor()))])"
      ]
     },
     "execution_count": 19,
     "metadata": {},
     "output_type": "execute_result"
    }
   ],
   "source": [
    "pipe_rfr.fit(X_train, y_train)"
   ]
  },
  {
   "cell_type": "code",
   "execution_count": 21,
   "id": "0731fb46-53f6-4b16-9f1f-3d5e9b266db3",
   "metadata": {},
   "outputs": [],
   "source": [
    "from sklearn.metrics import mean_absolute_error, mean_squared_error"
   ]
  },
  {
   "cell_type": "code",
   "execution_count": 22,
   "id": "4f4d1dca-d1c2-47c4-81f3-b4839298ca99",
   "metadata": {},
   "outputs": [
    {
     "name": "stdout",
     "output_type": "stream",
     "text": [
      "mae: 2207.4307698288458\n",
      "mse: 14473202.448912326\n"
     ]
    }
   ],
   "source": [
    "print('mae:', mean_absolute_error(y_test, pipe_rfr.predict(X_test)))\n",
    "print('mse:', mean_squared_error(y_test, pipe_rfr.predict(X_test)))"
   ]
  },
  {
   "cell_type": "code",
   "execution_count": 25,
   "id": "6e48bac8-86f4-4a67-b9e6-bf8148d33e45",
   "metadata": {},
   "outputs": [
    {
     "name": "stdout",
     "output_type": "stream",
     "text": [
      "mae: 3786.9788397194775\n",
      "mse: 34775480.83738604\n"
     ]
    }
   ],
   "source": [
    "print('mae:', mean_absolute_error(y_test, pipe_lnr.predict(X_test)))\n",
    "print('mse:', mean_squared_error(y_test, pipe_lnr.predict(X_test)))"
   ]
  },
  {
   "cell_type": "code",
   "execution_count": 28,
   "id": "4b33bfc8-9ee2-4b07-a5ba-139208164472",
   "metadata": {},
   "outputs": [],
   "source": [
    "test_predicted = pipe_rfr.predict(X_test)"
   ]
  },
  {
   "cell_type": "code",
   "execution_count": null,
   "id": "48d93889-7a4c-49e8-891f-fd034dbd1701",
   "metadata": {},
   "outputs": [
    {
     "data": {
      "text/plain": [
       "<AxesSubplot:ylabel='price'>"
      ]
     },
     "execution_count": 29,
     "metadata": {},
     "output_type": "execute_result"
    }
   ],
   "source": [
    "sns.scatterplot(x=test_predicted, y=y_test, hue=X_test.is_econom)"
   ]
  },
  {
   "cell_type": "markdown",
   "id": "91266961-7279-435e-bc21-6ee2c6eca46f",
   "metadata": {},
   "source": [
    "Feature importances"
   ]
  },
  {
   "cell_type": "code",
   "execution_count": 164,
   "id": "55396228-642e-4843-ab37-d7cb72ea5de6",
   "metadata": {},
   "outputs": [
    {
     "data": {
      "text/plain": [
       "array(['real__is_econom', 'real__taken_time_minues', 'real__distance',\n",
       "       'real__speed', 'real__week_day', 'real__dep_minutes',\n",
       "       'real__stop_count', 'cat__new_airlines_Air India',\n",
       "       'cat__new_airlines_Indigo', 'cat__new_airlines_Other',\n",
       "       'cat__new_airlines_Vistara'], dtype=object)"
      ]
     },
     "execution_count": 164,
     "metadata": {},
     "output_type": "execute_result"
    }
   ],
   "source": [
    "pipe_rfr.named_steps['transfromer'].get_feature_names_out()"
   ]
  },
  {
   "cell_type": "code",
   "execution_count": 156,
   "id": "342c0f38-6c9a-43ef-a1d3-d84d3a0c43c0",
   "metadata": {},
   "outputs": [
    {
     "data": {
      "text/plain": [
       "array(['Air India', 'Indigo', 'Other', 'Vistara'], dtype=object)"
      ]
     },
     "execution_count": 156,
     "metadata": {},
     "output_type": "execute_result"
    }
   ],
   "source": [
    "X_train[cat_columns].new_airlines.sort_values().unique()"
   ]
  },
  {
   "cell_type": "code",
   "execution_count": 157,
   "id": "2eb3813f-8505-4907-bcf6-065911bb788b",
   "metadata": {},
   "outputs": [],
   "source": [
    "features_names = real_columns + ['Air India', 'Indigo', 'Other', 'Vistara']"
   ]
  },
  {
   "cell_type": "code",
   "execution_count": 165,
   "id": "2d1f9e36-6dc9-4cd7-9579-3a2eda062fdd",
   "metadata": {},
   "outputs": [],
   "source": [
    "features_names = pipe_rfr.named_steps['transfromer'].get_feature_names_out()"
   ]
  },
  {
   "cell_type": "code",
   "execution_count": 166,
   "id": "6936933e-ca0d-41e3-a8b5-7ca65e9c7392",
   "metadata": {},
   "outputs": [
    {
     "data": {
      "image/png": "[encoded data removed]",
      "text/plain": [
       "<Figure size 432x288 with 1 Axes>"
      ]
     },
     "metadata": {
      "needs_background": "light"
     },
     "output_type": "display_data"
    }
   ],
   "source": [
    "get_random_forest_feature_importances(\n",
    "    pipe_rfr.named_steps['model'].regressor_,\n",
    "    features_names\n",
    ")"
   ]
  },
  {
   "cell_type": "markdown",
   "id": "a588f16d-7b04-4cad-9492-a8af74ebc93e",
   "metadata": {},
   "source": [
    "### Композиция моделей (Не получилось)"
   ]
  },
  {
   "cell_type": "code",
   "execution_count": 124,
   "id": "18783f45-4908-4f52-ae35-bb236a9d724a",
   "metadata": {},
   "outputs": [
    {
     "name": "stdout",
     "output_type": "stream",
     "text": [
      "mae: 15588.863428736859\n",
      "mse: 693850443.5016571\n",
      "mae: 29142.209061698864\n",
      "mse: 1278242614.6820624\n"
     ]
    }
   ],
   "source": [
    "model_econom = train_to_df(X_train[X_train.is_econom == 1], y_train[X_train.is_econom == 1])\n",
    "model_business = train_to_df(X_train[X_train.is_econom == 0], y_train[X_train.is_econom == 0])"
   ]
  },
  {
   "cell_type": "code",
   "execution_count": 125,
   "id": "ef04ff82-9fed-4047-bb55-db77797889f2",
   "metadata": {},
   "outputs": [],
   "source": [
    "test_enonom_predicted = model_econom.predict(X_test[X_test.is_econom == 1])\n",
    "test_business_predicted = model_business.predict(X_test[X_test.is_econom == 0])"
   ]
  },
  {
   "cell_type": "code",
   "execution_count": 126,
   "id": "2e69bad4-7516-46ba-b676-fa77312bd59c",
   "metadata": {},
   "outputs": [],
   "source": [
    "X_test.loc[X_test.is_econom == 1, 'predicted_price'] = test_enonom_predicted\n",
    "X_test.loc[X_test.is_econom == 0, 'predicted_price'] = test_business_predicted"
   ]
  },
  {
   "cell_type": "code",
   "execution_count": 127,
   "id": "72942039-2ce3-433e-8bd9-a9c4288aa517",
   "metadata": {},
   "outputs": [
    {
     "name": "stdout",
     "output_type": "stream",
     "text": [
      "mae: 29142.209061698864\n",
      "mse: 1278242614.6820624\n"
     ]
    }
   ],
   "source": [
    "print('mae:', mean_absolute_error(y_test, X_test['predicted_price']))\n",
    "print('mse:', mean_squared_error(y_test, X_test['predicted_price']))"
   ]
  },
  {
   "cell_type": "code",
   "execution_count": 62,
   "id": "e38fa371-3ae2-4896-945f-010878132770",
   "metadata": {},
   "outputs": [],
   "source": [
    "importances = pipe_rfr.named_steps['model'].feature_importances_\n",
    "std = np.std([tree.feature_importances_ for tree in pipe_rfr.named_steps['model'].estimators_], axis=0)"
   ]
  },
  {
   "cell_type": "code",
   "execution_count": 63,
   "id": "b356baa2-2b32-41f0-b41d-71d8479e5fe6",
   "metadata": {},
   "outputs": [
    {
     "name": "stderr",
     "output_type": "stream",
     "text": [
      "/Users/michil/.virtualenvs/base/lib/python3.8/site-packages/sklearn/utils/deprecation.py:87: FutureWarning: Function get_feature_names is deprecated; get_feature_names is deprecated in 1.0 and will be removed in 1.2. Please use get_feature_names_out instead.\n",
      "  warnings.warn(msg, category=FutureWarning)\n"
     ]
    },
    {
     "data": {
      "image/png": "[encoded data removed]",
      "text/plain": [
       "<Figure size 432x288 with 1 Axes>"
      ]
     },
     "metadata": {
      "needs_background": "light"
     },
     "output_type": "display_data"
    }
   ],
   "source": [
    "feature_names = real_columns + pipe_rfr.named_steps['transfromer'].transformers_[1][1].get_feature_names().tolist()\n",
    "forest_importances = pd.Series(importances, index=feature_names)\n",
    "\n",
    "fig, ax = plt.subplots()\n",
    "forest_importances.plot.bar(yerr=std, ax=ax)\n",
    "ax.set_title(\"Feature importances using MDI\")\n",
    "ax.set_ylabel(\"Mean decrease in impurity\")\n",
    "fig.tight_layout()"
   ]
  },
  {
   "cell_type": "code",
   "execution_count": null,
   "id": "51d026a5-463e-49de-ad43-9c65485d763f",
   "metadata": {},
   "outputs": [],
   "source": []
  }
 ],
 "metadata": {
  "kernelspec": {
   "display_name": "Python 3 (ipykernel)",
   "language": "python",
   "name": "python3"
  },
  "language_info": {
   "codemirror_mode": {
    "name": "ipython",
    "version": 3
   },
   "file_extension": ".py",
   "mimetype": "text/x-python",
   "name": "python",
   "nbconvert_exporter": "python",
   "pygments_lexer": "ipython3",
   "version": "3.8.2"
  }
 },
 "nbformat": 4,
 "nbformat_minor": 5
}
