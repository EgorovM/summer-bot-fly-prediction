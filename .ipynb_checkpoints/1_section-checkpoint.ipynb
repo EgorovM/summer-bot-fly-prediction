{
 "cells": [
  {
   "cell_type": "markdown",
   "id": "541715c1-d3bf-4448-beb5-a8408e764a9a",
   "metadata": {
    "tags": []
   },
   "source": [
    "# Чтение данных, фильтрация дубликатов и тп\n",
    "\n",
    "План:\n",
    "- Объединим обе датасета"
   ]
  },
  {
   "cell_type": "code",
   "execution_count": 20,
   "id": "6326fc73-25bf-4a15-ae24-afb3314da8da",
   "metadata": {},
   "outputs": [],
   "source": [
    "import pandas as pd\n",
    "import numpy as np"
   ]
  },
  {
   "cell_type": "markdown",
   "id": "cee6fd0d-dbbb-42ac-845e-04fcdb148332",
   "metadata": {},
   "source": [
    "## Объединение датасетов"
   ]
  },
  {
   "cell_type": "code",
   "execution_count": 21,
   "id": "59a87dec-e380-48c7-a4a9-854778b6814d",
   "metadata": {},
   "outputs": [],
   "source": [
    "business_df = pd.read_csv('business.csv')\n",
    "economy_df = pd.read_csv('economy.csv')"
   ]
  },
  {
   "cell_type": "markdown",
   "id": "771a5610-562a-4e6f-bdaa-bc12fb0d25e1",
   "metadata": {},
   "source": [
    "Использование np.hstack"
   ]
  },
  {
   "cell_type": "markdown",
   "id": "27c016a2-f3c8-4bdd-b83c-fab3ea4b82c5",
   "metadata": {},
   "source": [
    "[\n",
    "    [0, 1],\n",
    "    [1, 2],\n",
    "]\n",
    "\n",
    "[\n",
    "    [2, 5],\n",
    "    [8, 10],\n",
    "]\n",
    "\n",
    "horizontal stack\n",
    "\n",
    "[\n",
    "    [0, 1, 2, 6],\n",
    "    [1, 2, 8, 10],\n",
    "]\n",
    "\n",
    "vertical stack\n",
    "\n",
    "[\n",
    "    [0, 1],\n",
    "    [1, 2],\n",
    "    [2, 5],\n",
    "    [8, 10],\n",
    "]"
   ]
  },
  {
   "cell_type": "code",
   "execution_count": 22,
   "id": "bfb427ca-ab43-42ad-9d26-0049cbd986f5",
   "metadata": {},
   "outputs": [],
   "source": [
    "general_values = np.vstack((business_df, economy_df))\n",
    "\n",
    "# array -> dataframe перевести\n",
    "\n",
    "general_df = pd.DataFrame(general_values, columns=business_df.columns)"
   ]
  },
  {
   "cell_type": "markdown",
   "id": "993057bc-36c1-4581-98f3-e93fa8f773c3",
   "metadata": {},
   "source": [
    "Использование pd.append"
   ]
  },
  {
   "cell_type": "code",
   "execution_count": 24,
   "id": "1e1dcda5-634a-447b-ada8-e55a0928361f",
   "metadata": {},
   "outputs": [],
   "source": [
    "general_df = business_df.append(economy_df).reset_index(drop=True)"
   ]
  },
  {
   "cell_type": "markdown",
   "id": "bd36481f-117b-46d2-a5c0-cbb2ade25e7a",
   "metadata": {},
   "source": [
    "Добавим новую колонку, которая будет обозначать какой был тип (эконом или бизнец) у билета"
   ]
  },
  {
   "cell_type": "code",
   "execution_count": 5,
   "id": "767b9837-f630-4623-998f-2262e5628075",
   "metadata": {},
   "outputs": [],
   "source": [
    "is_econom = [0] * business_df.shape[0] + [1] * economy_df.shape[0]\n",
    "general_df['is_econom'] = is_econom"
   ]
  },
  {
   "cell_type": "markdown",
   "id": "5e5cf11f-3004-47f4-a13d-51eccd65037f",
   "metadata": {},
   "source": [
    "Приведем колонку stop к одному виду. Так как очень много '1-stop' без указания города транзита, то не будем смотреть на город транзита и просто сохраним три класса: '1-stop', 'non-stop', '2+-stop'"
   ]
  },
  {
   "cell_type": "code",
   "execution_count": 6,
   "id": "3eb7c353-d016-4eb1-aff6-831a111c57a5",
   "metadata": {},
   "outputs": [],
   "source": [
    "clear_stop = []\n",
    "\n",
    "for stop in general_df.stop:\n",
    "    if stop[0] == '1':\n",
    "        clear_stop.append('1-stop')\n",
    "    elif stop[0] == '2':\n",
    "        clear_stop.append('2+-stop')\n",
    "    else:\n",
    "        clear_stop.append('0-stop')"
   ]
  },
  {
   "cell_type": "code",
   "execution_count": 7,
   "id": "afcbfc4c-d90f-4b3f-8f07-786e31d16a49",
   "metadata": {},
   "outputs": [],
   "source": [
    "# как стало\n",
    "\n",
    "clear_stop = general_df.stop.str.strip().str[:8].str.strip()"
   ]
  },
  {
   "cell_type": "code",
   "execution_count": 8,
   "id": "38a5d7b9-eaa7-47c5-bb80-9a88148605e2",
   "metadata": {},
   "outputs": [],
   "source": [
    "general_df['stop'] = clear_stop"
   ]
  },
  {
   "cell_type": "markdown",
   "id": "829a8ef2-38d7-4c6f-8931-c5995edcf3ab",
   "metadata": {},
   "source": [
    "Уберем дубликаты"
   ]
  },
  {
   "cell_type": "code",
   "execution_count": 9,
   "id": "59bed348-a1e0-4067-80fb-e7b8d852fc8a",
   "metadata": {},
   "outputs": [
    {
     "name": "stdout",
     "output_type": "stream",
     "text": [
      "Всего дубликатов было:  2\n"
     ]
    }
   ],
   "source": [
    "prev_count = general_df.shape[0]\n",
    "general_df = general_df.drop_duplicates()\n",
    "print('Всего дубликатов было: ', prev_count - general_df.shape[0])"
   ]
  },
  {
   "cell_type": "markdown",
   "id": "e397f9f8-f7c4-42f5-9547-0965ac79baba",
   "metadata": {},
   "source": [
    "Приведем price к числову виду"
   ]
  },
  {
   "cell_type": "code",
   "execution_count": 10,
   "id": "4d98b33e-16fb-4baf-9e4b-0f8814f04089",
   "metadata": {},
   "outputs": [],
   "source": [
    "prices = []\n",
    "\n",
    "for price in general_df.price:\n",
    "    price = price.replace(',', '')\n",
    "    prices.append(int(price))"
   ]
  },
  {
   "cell_type": "code",
   "execution_count": 11,
   "id": "d92a93fd-ccbc-420f-9bbf-16a7bbd05571",
   "metadata": {},
   "outputs": [],
   "source": [
    "# как стало\n",
    "\n",
    "prices = general_df.price.str.replace(',', '').astype(int).values"
   ]
  },
  {
   "cell_type": "code",
   "execution_count": 12,
   "id": "4f3e308a-416a-4366-8708-7f859002bf8e",
   "metadata": {},
   "outputs": [],
   "source": [
    "general_df['price'] = prices"
   ]
  },
  {
   "cell_type": "code",
   "execution_count": 13,
   "id": "2b3a2f47-cd66-49f8-b688-2f39eda91e4a",
   "metadata": {},
   "outputs": [],
   "source": [
    "taken_times = []\n",
    "\n",
    "for time in general_df.time_taken:\n",
    "    a, b = time.split()\n",
    "\n",
    "    a = a[:-1]\n",
    "    b = b[:-1]\n",
    "\n",
    "    a = float(a) * 60\n",
    "    \n",
    "    if b == '':\n",
    "        b = 0\n",
    "    else:\n",
    "        b = float(b)\n",
    "\n",
    "    taken_times.append(a + b)"
   ]
  },
  {
   "cell_type": "code",
   "execution_count": 14,
   "id": "8bf870e1-2c94-4e45-a81d-b0bef83507d5",
   "metadata": {},
   "outputs": [],
   "source": [
    "# как стало\n",
    "\n",
    "def process_str_time(str_time):\n",
    "    a, b = list(map(lambda x: x[:-1], str_time.split()))\n",
    "    \n",
    "    if b:\n",
    "        return int(a) * 60 + int(b)\n",
    "    \n",
    "    return float(a) * 60\n",
    "\n",
    "taken_times = general_df.time_taken.apply(process_str_time).values"
   ]
  },
  {
   "cell_type": "code",
   "execution_count": 16,
   "id": "03cb27e5-d182-4f58-9343-0de2001e4301",
   "metadata": {},
   "outputs": [],
   "source": [
    "general_df['taken_time_minues'] = taken_times"
   ]
  },
  {
   "cell_type": "markdown",
   "id": "a13c9250-56da-415a-a625-b4735e127c9b",
   "metadata": {},
   "source": [
    "Избавимся от ch_code, num_code, потому что .... И от arr_time, потому что мы знаем время в полете и когда самолет вылетел и мы сможем его восстановить. time_taken тоже, потому что мы его перевели в число минут"
   ]
  },
  {
   "cell_type": "code",
   "execution_count": 17,
   "id": "2f9abe10-e775-4d77-ba3e-71b8d55de855",
   "metadata": {},
   "outputs": [],
   "source": [
    "result_df = general_df.drop(['ch_code', 'num_code', 'arr_time', 'time_taken'], axis=1)"
   ]
  },
  {
   "cell_type": "code",
   "execution_count": 18,
   "id": "2e981d19-704c-4f9e-850f-e3f0d7775cfd",
   "metadata": {},
   "outputs": [],
   "source": [
    "result_df.to_csv('features.csv', index=False)"
   ]
  },
  {
   "cell_type": "code",
   "execution_count": 19,
   "id": "087ced59-e75e-4b67-921d-9da6c8904fea",
   "metadata": {},
   "outputs": [
    {
     "data": {
      "text/html": [
       "<div>\n",
       "<style scoped>\n",
       "    .dataframe tbody tr th:only-of-type {\n",
       "        vertical-align: middle;\n",
       "    }\n",
       "\n",
       "    .dataframe tbody tr th {\n",
       "        vertical-align: top;\n",
       "    }\n",
       "\n",
       "    .dataframe thead th {\n",
       "        text-align: right;\n",
       "    }\n",
       "</style>\n",
       "<table border=\"1\" class=\"dataframe\">\n",
       "  <thead>\n",
       "    <tr style=\"text-align: right;\">\n",
       "      <th></th>\n",
       "      <th>date</th>\n",
       "      <th>airline</th>\n",
       "      <th>dep_time</th>\n",
       "      <th>from</th>\n",
       "      <th>stop</th>\n",
       "      <th>to</th>\n",
       "      <th>price</th>\n",
       "      <th>is_econom</th>\n",
       "      <th>taken_time_minues</th>\n",
       "    </tr>\n",
       "  </thead>\n",
       "  <tbody>\n",
       "    <tr>\n",
       "      <th>0</th>\n",
       "      <td>11-02-2022</td>\n",
       "      <td>Air India</td>\n",
       "      <td>18:00</td>\n",
       "      <td>Delhi</td>\n",
       "      <td>non-stop</td>\n",
       "      <td>Mumbai</td>\n",
       "      <td>25612</td>\n",
       "      <td>0</td>\n",
       "      <td>120.0</td>\n",
       "    </tr>\n",
       "    <tr>\n",
       "      <th>1</th>\n",
       "      <td>11-02-2022</td>\n",
       "      <td>Air India</td>\n",
       "      <td>19:00</td>\n",
       "      <td>Delhi</td>\n",
       "      <td>non-stop</td>\n",
       "      <td>Mumbai</td>\n",
       "      <td>25612</td>\n",
       "      <td>0</td>\n",
       "      <td>135.0</td>\n",
       "    </tr>\n",
       "    <tr>\n",
       "      <th>2</th>\n",
       "      <td>11-02-2022</td>\n",
       "      <td>Air India</td>\n",
       "      <td>20:00</td>\n",
       "      <td>Delhi</td>\n",
       "      <td>1-stop</td>\n",
       "      <td>Mumbai</td>\n",
       "      <td>42220</td>\n",
       "      <td>0</td>\n",
       "      <td>1485.0</td>\n",
       "    </tr>\n",
       "    <tr>\n",
       "      <th>3</th>\n",
       "      <td>11-02-2022</td>\n",
       "      <td>Air India</td>\n",
       "      <td>21:25</td>\n",
       "      <td>Delhi</td>\n",
       "      <td>1-stop</td>\n",
       "      <td>Mumbai</td>\n",
       "      <td>44450</td>\n",
       "      <td>0</td>\n",
       "      <td>1590.0</td>\n",
       "    </tr>\n",
       "    <tr>\n",
       "      <th>4</th>\n",
       "      <td>11-02-2022</td>\n",
       "      <td>Air India</td>\n",
       "      <td>17:15</td>\n",
       "      <td>Delhi</td>\n",
       "      <td>1-stop</td>\n",
       "      <td>Mumbai</td>\n",
       "      <td>46690</td>\n",
       "      <td>0</td>\n",
       "      <td>400.0</td>\n",
       "    </tr>\n",
       "  </tbody>\n",
       "</table>\n",
       "</div>"
      ],
      "text/plain": [
       "         date    airline dep_time   from      stop      to  price  is_econom  \\\n",
       "0  11-02-2022  Air India    18:00  Delhi  non-stop  Mumbai  25612          0   \n",
       "1  11-02-2022  Air India    19:00  Delhi  non-stop  Mumbai  25612          0   \n",
       "2  11-02-2022  Air India    20:00  Delhi    1-stop  Mumbai  42220          0   \n",
       "3  11-02-2022  Air India    21:25  Delhi    1-stop  Mumbai  44450          0   \n",
       "4  11-02-2022  Air India    17:15  Delhi    1-stop  Mumbai  46690          0   \n",
       "\n",
       "   taken_time_minues  \n",
       "0              120.0  \n",
       "1              135.0  \n",
       "2             1485.0  \n",
       "3             1590.0  \n",
       "4              400.0  "
      ]
     },
     "execution_count": 19,
     "metadata": {},
     "output_type": "execute_result"
    }
   ],
   "source": [
    "result_df.head()"
   ]
  }
 ],
 "metadata": {
  "kernelspec": {
   "display_name": "Python 3 (ipykernel)",
   "language": "python",
   "name": "python3"
  },
  "language_info": {
   "codemirror_mode": {
    "name": "ipython",
    "version": 3
   },
   "file_extension": ".py",
   "mimetype": "text/x-python",
   "name": "python",
   "nbconvert_exporter": "python",
   "pygments_lexer": "ipython3",
   "version": "3.8.2"
  }
 },
 "nbformat": 4,
 "nbformat_minor": 5
}
